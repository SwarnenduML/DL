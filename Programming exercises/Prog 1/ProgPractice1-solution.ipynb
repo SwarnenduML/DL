{
 "cells": [
  {
   "cell_type": "markdown",
   "metadata": {},
   "source": [
    "# Programming Practice I\n",
    "## 1 Overview\n",
    "In this practice, you can learn the basic knowledge of Python. In particular, by doing this practice, it is expected that you can:\n",
    "* get familiar with the basic syntax of Python;\n",
    "* get the basic idea of NumPy;\n",
    "* get the basic idea of Matplotlib for visualization."
   ]
  },
  {
   "cell_type": "markdown",
   "metadata": {},
   "source": [
    "**Important**: There could by many possible solutions and this solution is only an example for you."
   ]
  },
  {
   "cell_type": "markdown",
   "metadata": {},
   "source": [
    "*Please let us know if you find any typos or mistakes within this solution. Thank you in advance.*"
   ]
  },
  {
   "cell_type": "markdown",
   "metadata": {},
   "source": [
    "## 2 Tasks\n",
    "In this section, you can start the programming practice task by task. Please pay attention to the hints as well as the API documents online."
   ]
  },
  {
   "cell_type": "markdown",
   "metadata": {},
   "source": [
    "### 2.1 Import Packages"
   ]
  },
  {
   "cell_type": "code",
   "execution_count": 1,
   "metadata": {
    "ExecuteTime": {
     "end_time": "2021-05-02T15:52:40.972793Z",
     "start_time": "2021-05-02T15:52:40.544745Z"
    }
   },
   "outputs": [],
   "source": [
    "import numpy as np\n",
    "import matplotlib.pyplot as plt"
   ]
  },
  {
   "cell_type": "markdown",
   "metadata": {},
   "source": [
    "### 2.2 1D Dataset\n",
    "> In machine learning and deep learning, we often use x/X to denote the input data (e.g., images) and y/Y to denote the corresponding ground truth (e.g., class label)."
   ]
  },
  {
   "cell_type": "code",
   "execution_count": 2,
   "metadata": {
    "ExecuteTime": {
     "end_time": "2021-05-02T15:52:40.979243Z",
     "start_time": "2021-05-02T15:52:40.974780Z"
    }
   },
   "outputs": [],
   "source": [
    "N_SAMPLES = 100\n",
    "X = np.linspace(-1, 1, N_SAMPLES)\n",
    "Y = 0.1 * X + np.power(X, 2) + np.power(X, 3)  # or Y = 0.1*X + X**2 + X**3"
   ]
  },
  {
   "cell_type": "code",
   "execution_count": 3,
   "metadata": {
    "ExecuteTime": {
     "end_time": "2021-05-02T15:52:40.989657Z",
     "start_time": "2021-05-02T15:52:40.984698Z"
    }
   },
   "outputs": [],
   "source": [
    "def create_toy_dataset(n_samples=100):\n",
    "    X = np.linspace(-1, 1, n_samples)\n",
    "    Y = 0.1 * X + np.power(X, 2) + np.power(X, 3)\n",
    "    return X, Y"
   ]
  },
  {
   "cell_type": "code",
   "execution_count": 4,
   "metadata": {
    "ExecuteTime": {
     "end_time": "2021-05-02T15:52:41.023882Z",
     "start_time": "2021-05-02T15:52:40.992634Z"
    }
   },
   "outputs": [],
   "source": [
    "class Dataset():\n",
    "    def __init__(self, n_samples=100):\n",
    "        self.n_samples = n_samples\n",
    "    \n",
    "    def load_data(self):\n",
    "        self.X = np.linspace(-1, 1, self.n_samples)\n",
    "        self.Y = 0.1 * self.X + np.power(self.X, 2) + np.power(self.X, 3)\n",
    "        return self.X, self.Y"
   ]
  },
  {
   "cell_type": "markdown",
   "metadata": {},
   "source": [
    "### 2.3 Plot the 1D Dataset"
   ]
  },
  {
   "cell_type": "code",
   "execution_count": 5,
   "metadata": {
    "ExecuteTime": {
     "end_time": "2021-05-02T15:52:41.202938Z",
     "start_time": "2021-05-02T15:52:41.027850Z"
    }
   },
   "outputs": [
    {
     "data": {
      "image/png": "[encoded data removed]",
      "text/plain": [
       "<Figure size 360x360 with 1 Axes>"
      ]
     },
     "metadata": {
      "needs_background": "light"
     },
     "output_type": "display_data"
    }
   ],
   "source": [
    "plt.figure(figsize=(5, 5))\n",
    "plt.plot(X, Y)\n",
    "plt.xticks(ticks=np.linspace(-1, 1, 5), labels=np.linspace(-1, 1, 5))\n",
    "plt.show()"
   ]
  },
  {
   "cell_type": "markdown",
   "metadata": {},
   "source": [
    "### 2.4 2D Dataset"
   ]
  },
  {
   "cell_type": "code",
   "execution_count": 6,
   "metadata": {
    "ExecuteTime": {
     "end_time": "2021-05-02T15:52:41.212362Z",
     "start_time": "2021-05-02T15:52:41.204426Z"
    }
   },
   "outputs": [],
   "source": [
    "random_state = np.random.RandomState(42)\n",
    "X = random_state.randn(100, 2)\n",
    "Y = np.ones(shape=(100, ))\n",
    "Y[np.sum(np.square(X), axis=-1)<1] = 0\n",
    "\n",
    "# an alternative to fix the seed:\n",
    "# np.random.seed(42)\n",
    "# X = np.random.randn(100, 2)\n",
    "# Question for you: What is the difference between np.random.seed() and np.random.RandomState()?"
   ]
  },
  {
   "cell_type": "markdown",
   "metadata": {},
   "source": [
    "### 2.5 Plot the 2D Dataset"
   ]
  },
  {
   "cell_type": "code",
   "execution_count": 7,
   "metadata": {
    "ExecuteTime": {
     "end_time": "2021-05-02T15:52:41.501530Z",
     "start_time": "2021-05-02T15:52:41.214346Z"
    }
   },
   "outputs": [
    {
     "data": {
      "image/png": "[encoded data removed]",
      "text/plain": [
       "<Figure size 360x360 with 1 Axes>"
      ]
     },
     "metadata": {
      "needs_background": "light"
     },
     "output_type": "display_data"
    }
   ],
   "source": [
    "plt.figure(figsize=(5, 5))\n",
    "plt.scatter(X[Y==0, 0], X[Y==0, 1], marker='o', c='b', label='class 0')\n",
    "plt.scatter(X[Y==1, 0], X[Y==1, 1], marker='v', c='r', label='class 1')\n",
    "plt.legend()\n",
    "plt.show()"
   ]
  },
  {
   "cell_type": "markdown",
   "metadata": {
    "ExecuteTime": {
     "end_time": "2021-03-15T16:23:01.361072Z",
     "start_time": "2021-03-15T16:23:01.356636Z"
    }
   },
   "source": [
    "### 2.6 A Simple Convolution"
   ]
  },
  {
   "cell_type": "code",
   "execution_count": 8,
   "metadata": {
    "ExecuteTime": {
     "end_time": "2021-05-02T15:52:41.515915Z",
     "start_time": "2021-05-02T15:52:41.505499Z"
    }
   },
   "outputs": [
    {
     "name": "stdout",
     "output_type": "stream",
     "text": [
      "[[10. 14. 18.]\n",
      " [26. 30. 34.]\n",
      " [42. 46. 50.]]\n"
     ]
    }
   ],
   "source": [
    "X = np.arange(0, 16).reshape(4, 4)\n",
    "W = np.ones(shape=(2, 2))\n",
    "\n",
    "X_conv = np.zeros(shape=(3, 3))\n",
    "\n",
    "for i in range(X_conv.shape[0]):\n",
    "    for j in range(X_conv.shape[1]):\n",
    "        X_conv[i, j] = np.sum(X[i:(i+2), j:(j+2)] * W)\n",
    "\n",
    "print(X_conv)"
   ]
  },
  {
   "cell_type": "code",
   "execution_count": 9,
   "metadata": {
    "ExecuteTime": {
     "end_time": "2021-05-02T15:52:41.534762Z",
     "start_time": "2021-05-02T15:52:41.519883Z"
    }
   },
   "outputs": [],
   "source": [
    "def convolve(X, W):\n",
    "    (X_height, X_width) = X.shape\n",
    "    (W_height, W_width) = W.shape\n",
    "    \n",
    "    # X_height and X_width should be larger than W_height and W_width, respectively.\n",
    "    \n",
    "    X_conv_height, X_conv_width = X_height - W_height + 1, X_width - W_width + 1\n",
    "    X_conv = np.zeros(shape=(X_conv_height, X_conv_width))\n",
    "\n",
    "    for i in range(X_conv.shape[0]):\n",
    "        for j in range(X_conv.shape[1]):\n",
    "            X_conv[i, j] = np.sum(X[i:(i+W_height), j:(j+W_width)] * W)\n",
    "    return X_conv"
   ]
  }
 ],
 "metadata": {
  "kernelspec": {
   "display_name": "Python 3",
   "language": "python",
   "name": "python3"
  },
  "language_info": {
   "codemirror_mode": {
    "name": "ipython",
    "version": 3
   },
   "file_extension": ".py",
   "mimetype": "text/x-python",
   "name": "python",
   "nbconvert_exporter": "python",
   "pygments_lexer": "ipython3",
   "version": "3.8.6"
  },
  "toc": {
   "base_numbering": 1,
   "nav_menu": {},
   "number_sections": false,
   "sideBar": false,
   "skip_h1_title": false,
   "title_cell": "Table of Contents",
   "title_sidebar": "Contents",
   "toc_cell": false,
   "toc_position": {
    "height": "830.4px",
    "left": "22px",
    "top": "121.6px",
    "width": "409.6px"
   },
   "toc_section_display": true,
   "toc_window_display": true
  }
 },
 "nbformat": 4,
 "nbformat_minor": 4
}

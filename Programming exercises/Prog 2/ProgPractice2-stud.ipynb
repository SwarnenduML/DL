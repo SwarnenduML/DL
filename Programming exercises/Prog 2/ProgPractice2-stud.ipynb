{
 "cells": [
  {
   "cell_type": "markdown",
   "metadata": {},
   "source": [
    "# Programming Practice II\n",
    "## 1 Overview\n",
    "In this practice, you are asked to implement a neural network with one hidden layer for regression using NumPy only. In particular, you are expected to learn to\n",
    "* implement simple activation functions;\n",
    "* get familiar with gradient descent algorithms;\n",
    "* get familiar with back-propagation algorithms in neural networks."
   ]
  },
  {
   "cell_type": "markdown",
   "metadata": {},
   "source": [
    "## 2 Tasks\n",
    "In this section, you can start the programming practice task by task. Please pay attention to the hints as well as the API documents available online."
   ]
  },
  {
   "cell_type": "code",
   "execution_count": null,
   "metadata": {
    "ExecuteTime": {
     "end_time": "2021-03-16T09:30:39.803664Z",
     "start_time": "2021-03-16T09:30:39.481455Z"
    }
   },
   "outputs": [],
   "source": [
    "import numpy as np\n",
    "import matplotlib.pyplot as plt"
   ]
  },
  {
   "cell_type": "markdown",
   "metadata": {},
   "source": [
    "### 2.1 Define Sigmoid Function"
   ]
  },
  {
   "cell_type": "code",
   "execution_count": null,
   "metadata": {
    "ExecuteTime": {
     "end_time": "2021-03-16T09:30:39.808596Z",
     "start_time": "2021-03-16T09:30:39.805621Z"
    }
   },
   "outputs": [],
   "source": [
    "def sigmoid(x):\n",
    "    # TODO"
   ]
  },
  {
   "cell_type": "markdown",
   "metadata": {},
   "source": [
    "### 2.2 Define Derivative of Sigmoid Function"
   ]
  },
  {
   "cell_type": "code",
   "execution_count": null,
   "metadata": {
    "ExecuteTime": {
     "end_time": "2021-03-16T09:30:39.820589Z",
     "start_time": "2021-03-16T09:30:39.811076Z"
    }
   },
   "outputs": [],
   "source": [
    "def derivative_sigmoid(x):\n",
    "    # TODO"
   ]
  },
  {
   "cell_type": "markdown",
   "metadata": {},
   "source": [
    "### 2.3 Plot Functions"
   ]
  },
  {
   "cell_type": "code",
   "execution_count": null,
   "metadata": {
    "ExecuteTime": {
     "end_time": "2021-03-16T09:30:40.004599Z",
     "start_time": "2021-03-16T09:30:39.822565Z"
    }
   },
   "outputs": [],
   "source": [
    "# TODO: plotting"
   ]
  },
  {
   "cell_type": "markdown",
   "metadata": {},
   "source": [
    "### 2.4 Define Neural Network"
   ]
  },
  {
   "cell_type": "code",
   "execution_count": null,
   "metadata": {
    "ExecuteTime": {
     "end_time": "2021-03-16T09:30:40.009557Z",
     "start_time": "2021-03-16T09:30:40.006084Z"
    }
   },
   "outputs": [],
   "source": [
    "def forward_pass(x, w1, b1, w2, b2):\n",
    "    # TODO"
   ]
  },
  {
   "cell_type": "markdown",
   "metadata": {},
   "source": [
    "### 2.5 Define Loss Function"
   ]
  },
  {
   "cell_type": "code",
   "execution_count": null,
   "metadata": {
    "ExecuteTime": {
     "end_time": "2021-03-16T09:30:40.017492Z",
     "start_time": "2021-03-16T09:30:40.011541Z"
    }
   },
   "outputs": [],
   "source": [
    "def mse(y_true, y_pred):\n",
    "    # TODO\n",
    "\n",
    "def derivative_mse(y_true, y_pred):\n",
    "    # TODO"
   ]
  },
  {
   "cell_type": "markdown",
   "metadata": {},
   "source": [
    "### 2.6 Define Gradient"
   ]
  },
  {
   "cell_type": "code",
   "execution_count": null,
   "metadata": {
    "ExecuteTime": {
     "end_time": "2021-03-16T09:30:40.026917Z",
     "start_time": "2021-03-16T09:30:40.019973Z"
    }
   },
   "outputs": [],
   "source": [
    "def cal_gradient(x, y, y_hat, w1, b1, w2, b2):\n",
    "    # TODO\n",
    "    # return dLdw1, dLdb1, dLdw2, dLdb2"
   ]
  },
  {
   "cell_type": "markdown",
   "metadata": {},
   "source": [
    "### 2.7 Update Weights"
   ]
  },
  {
   "cell_type": "code",
   "execution_count": null,
   "metadata": {
    "ExecuteTime": {
     "end_time": "2021-03-16T09:30:40.036340Z",
     "start_time": "2021-03-16T09:30:40.030389Z"
    }
   },
   "outputs": [],
   "source": [
    "def update_parameters(parameters, gradient, learning_rate):\n",
    "    # TODO"
   ]
  },
  {
   "cell_type": "markdown",
   "metadata": {},
   "source": [
    "### 2.8 Train Network"
   ]
  },
  {
   "cell_type": "code",
   "execution_count": null,
   "metadata": {
    "ExecuteTime": {
     "end_time": "2021-03-16T09:30:57.548781Z",
     "start_time": "2021-03-16T09:30:40.038821Z"
    }
   },
   "outputs": [],
   "source": [
    "# TODO: datasets\n",
    "\n",
    "# TODO: hyperparameters\n",
    "\n",
    "# TODO: parameter initialization\n",
    "\n",
    "# TODO: training"
   ]
  },
  {
   "cell_type": "markdown",
   "metadata": {},
   "source": [
    "### 2.9 Plot Results"
   ]
  },
  {
   "cell_type": "code",
   "execution_count": null,
   "metadata": {
    "ExecuteTime": {
     "end_time": "2021-03-16T09:30:57.704013Z",
     "start_time": "2021-03-16T09:30:57.549746Z"
    }
   },
   "outputs": [],
   "source": [
    "# TODO: plotting for comparison between the prediction and ground truth"
   ]
  },
  {
   "cell_type": "code",
   "execution_count": null,
   "metadata": {
    "ExecuteTime": {
     "end_time": "2021-03-16T09:30:57.804689Z",
     "start_time": "2021-03-16T09:30:57.705985Z"
    }
   },
   "outputs": [],
   "source": [
    "# TODO: plotting for the loss"
   ]
  }
 ],
 "metadata": {
  "kernelspec": {
   "display_name": "Python 3",
   "language": "python",
   "name": "python3"
  },
  "language_info": {
   "codemirror_mode": {
    "name": "ipython",
    "version": 3
   },
   "file_extension": ".py",
   "mimetype": "text/x-python",
   "name": "python",
   "nbconvert_exporter": "python",
   "pygments_lexer": "ipython3",
   "version": "3.8.6"
  },
  "toc": {
   "base_numbering": 1,
   "nav_menu": {},
   "number_sections": false,
   "sideBar": false,
   "skip_h1_title": false,
   "title_cell": "Table of Contents",
   "title_sidebar": "Contents",
   "toc_cell": false,
   "toc_position": {
    "height": "830.4px",
    "left": "1576.4px",
    "top": "88.6px",
    "width": "409.6px"
   },
   "toc_section_display": true,
   "toc_window_display": true
  }
 },
 "nbformat": 4,
 "nbformat_minor": 4
}
